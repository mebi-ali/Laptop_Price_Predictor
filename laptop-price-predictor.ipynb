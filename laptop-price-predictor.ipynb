{
 "cells": [
  {
   "cell_type": "markdown",
   "id": "a5227ec8",
   "metadata": {
    "_cell_guid": "b1076dfc-b9ad-4769-8c92-a6c4dae69d19",
    "_uuid": "8f2839f25d086af736a60e9eeb907d3b93b6e0e5",
    "execution": {
     "iopub.execute_input": "2022-12-29T07:57:00.458683Z",
     "iopub.status.busy": "2022-12-29T07:57:00.457811Z",
     "iopub.status.idle": "2022-12-29T07:57:00.493205Z",
     "shell.execute_reply": "2022-12-29T07:57:00.491933Z",
     "shell.execute_reply.started": "2022-12-29T07:57:00.458546Z"
    },
    "papermill": {
     "duration": 0.007516,
     "end_time": "2022-12-29T11:31:20.511873",
     "exception": false,
     "start_time": "2022-12-29T11:31:20.504357",
     "status": "completed"
    },
    "tags": []
   },
   "source": [
    "# Laptop Price Predictor"
   ]
  },
  {
   "cell_type": "code",
   "execution_count": 1,
   "id": "25b26624",
   "metadata": {
    "execution": {
     "iopub.execute_input": "2022-12-29T11:31:20.528497Z",
     "iopub.status.busy": "2022-12-29T11:31:20.527852Z",
     "iopub.status.idle": "2022-12-29T11:31:21.800943Z",
     "shell.execute_reply": "2022-12-29T11:31:21.799193Z"
    },
    "papermill": {
     "duration": 1.284734,
     "end_time": "2022-12-29T11:31:21.804020",
     "exception": false,
     "start_time": "2022-12-29T11:31:20.519286",
     "status": "completed"
    },
    "tags": []
   },
   "outputs": [],
   "source": [
    "# This Python 3 environment comes with many helpful analytics libraries installed\n",
    "# It is defined by the kaggle/python Docker image: https://github.com/kaggle/docker-python\n",
    "# For example, here's several helpful packages to load\n",
    "\n",
    "import os # Path to file\n",
    "import numpy as np # linear algebra\n",
    "import pandas as pd # data processing, CSV file I/O (e.g. pd.read_csv)\n",
    "import matplotlib.pyplot  as plt # Data visulization\n",
    "import seaborn as sns  # Data visulization\n",
    "import warnings # warning filter\n",
    "%matplotlib inline\n",
    "\n",
    "\n",
    "## Setting Seaborn\n",
    "sns.set(style='white', context='paper', palette='cividis')"
   ]
  },
  {
   "cell_type": "code",
   "execution_count": 2,
   "id": "a3f2f38e",
   "metadata": {
    "execution": {
     "iopub.execute_input": "2022-12-29T11:31:21.819036Z",
     "iopub.status.busy": "2022-12-29T11:31:21.818625Z",
     "iopub.status.idle": "2022-12-29T11:31:21.831134Z",
     "shell.execute_reply": "2022-12-29T11:31:21.829853Z"
    },
    "papermill": {
     "duration": 0.026388,
     "end_time": "2022-12-29T11:31:21.836664",
     "exception": false,
     "start_time": "2022-12-29T11:31:21.810276",
     "status": "completed"
    },
    "tags": []
   },
   "outputs": [
    {
     "name": "stdout",
     "output_type": "stream",
     "text": [
      "/kaggle/input/laptop/laptop_data.csv\n"
     ]
    }
   ],
   "source": [
    "# This Python 3 environment comes with many helpful analytics libraries installed\n",
    "# It is defined by the kaggle/python Docker image: https://github.com/kaggle/docker-python\n",
    "# For example, here's several helpful packages to load\n",
    "\n",
    "\n",
    "# Input data files are available in the read-only \"../input/\" directory\n",
    "# For example, running this (by clicking run or pressing Shift+Enter) will list all files under the input directory\n",
    "\n",
    "import os\n",
    "for dirname, _, filenames in os.walk('/kaggle/input'):\n",
    "    for filename in filenames:\n",
    "        print(os.path.join(dirname, filename))\n",
    "\n",
    "# You can write up to 20GB to the current directory (/kaggle/working/) that gets preserved as output when you create a version using \"Save & Run All\" \n",
    "# You can also write temporary files to /kaggle/temp/, but they won't be saved outside of the current session"
   ]
  },
  {
   "cell_type": "code",
   "execution_count": 3,
   "id": "08cb5c8a",
   "metadata": {
    "execution": {
     "iopub.execute_input": "2022-12-29T11:31:21.852038Z",
     "iopub.status.busy": "2022-12-29T11:31:21.850805Z",
     "iopub.status.idle": "2022-12-29T11:31:21.903082Z",
     "shell.execute_reply": "2022-12-29T11:31:21.901880Z"
    },
    "papermill": {
     "duration": 0.062254,
     "end_time": "2022-12-29T11:31:21.905590",
     "exception": false,
     "start_time": "2022-12-29T11:31:21.843336",
     "status": "completed"
    },
    "tags": []
   },
   "outputs": [
    {
     "data": {
      "text/html": [
       "<div>\n",
       "<style scoped>\n",
       "    .dataframe tbody tr th:only-of-type {\n",
       "        vertical-align: middle;\n",
       "    }\n",
       "\n",
       "    .dataframe tbody tr th {\n",
       "        vertical-align: top;\n",
       "    }\n",
       "\n",
       "    .dataframe thead th {\n",
       "        text-align: right;\n",
       "    }\n",
       "</style>\n",
       "<table border=\"1\" class=\"dataframe\">\n",
       "  <thead>\n",
       "    <tr style=\"text-align: right;\">\n",
       "      <th></th>\n",
       "      <th>Unnamed: 0</th>\n",
       "      <th>Company</th>\n",
       "      <th>TypeName</th>\n",
       "      <th>Inches</th>\n",
       "      <th>ScreenResolution</th>\n",
       "      <th>Cpu</th>\n",
       "      <th>Ram</th>\n",
       "      <th>Memory</th>\n",
       "      <th>Gpu</th>\n",
       "      <th>OpSys</th>\n",
       "      <th>Weight</th>\n",
       "      <th>Price</th>\n",
       "    </tr>\n",
       "  </thead>\n",
       "  <tbody>\n",
       "    <tr>\n",
       "      <th>33</th>\n",
       "      <td>33</td>\n",
       "      <td>Dell</td>\n",
       "      <td>Ultrabook</td>\n",
       "      <td>13.3</td>\n",
       "      <td>Touchscreen / Quad HD+ 3200x1800</td>\n",
       "      <td>Intel Core i7 8550U 1.8GHz</td>\n",
       "      <td>16GB</td>\n",
       "      <td>512GB SSD</td>\n",
       "      <td>Intel UHD Graphics 620</td>\n",
       "      <td>Windows 10</td>\n",
       "      <td>1.2kg</td>\n",
       "      <td>99580.32</td>\n",
       "    </tr>\n",
       "    <tr>\n",
       "      <th>786</th>\n",
       "      <td>786</td>\n",
       "      <td>MSI</td>\n",
       "      <td>Gaming</td>\n",
       "      <td>15.6</td>\n",
       "      <td>Full HD 1920x1080</td>\n",
       "      <td>Intel Core i5 7300HQ 2.5GHz</td>\n",
       "      <td>8GB</td>\n",
       "      <td>128GB SSD +  1TB HDD</td>\n",
       "      <td>Nvidia GeForce GTX 1050</td>\n",
       "      <td>Windows 10</td>\n",
       "      <td>2.2kg</td>\n",
       "      <td>58021.92</td>\n",
       "    </tr>\n",
       "    <tr>\n",
       "      <th>86</th>\n",
       "      <td>86</td>\n",
       "      <td>HP</td>\n",
       "      <td>Ultrabook</td>\n",
       "      <td>15.6</td>\n",
       "      <td>IPS Panel Full HD 1920x1080</td>\n",
       "      <td>Intel Core i7 8550U 1.8GHz</td>\n",
       "      <td>8GB</td>\n",
       "      <td>256GB SSD</td>\n",
       "      <td>Nvidia GeForce GTX 940MX</td>\n",
       "      <td>Windows 10</td>\n",
       "      <td>1.83kg</td>\n",
       "      <td>37242.72</td>\n",
       "    </tr>\n",
       "    <tr>\n",
       "      <th>676</th>\n",
       "      <td>676</td>\n",
       "      <td>Asus</td>\n",
       "      <td>Ultrabook</td>\n",
       "      <td>14.0</td>\n",
       "      <td>Full HD 1920x1080</td>\n",
       "      <td>Intel Core i5 7200U 2.5GHz</td>\n",
       "      <td>8GB</td>\n",
       "      <td>256GB SSD</td>\n",
       "      <td>Intel HD Graphics 620</td>\n",
       "      <td>Windows 10</td>\n",
       "      <td>1.1kg</td>\n",
       "      <td>60472.80</td>\n",
       "    </tr>\n",
       "    <tr>\n",
       "      <th>1272</th>\n",
       "      <td>1272</td>\n",
       "      <td>Lenovo</td>\n",
       "      <td>Notebook</td>\n",
       "      <td>14.0</td>\n",
       "      <td>1366x768</td>\n",
       "      <td>Intel Celeron Dual Core N3050 1.6GHz</td>\n",
       "      <td>2GB</td>\n",
       "      <td>64GB Flash Storage</td>\n",
       "      <td>Intel HD Graphics</td>\n",
       "      <td>Windows 10</td>\n",
       "      <td>1.5kg</td>\n",
       "      <td>12201.12</td>\n",
       "    </tr>\n",
       "  </tbody>\n",
       "</table>\n",
       "</div>"
      ],
      "text/plain": [
       "      Unnamed: 0 Company   TypeName  Inches                  ScreenResolution  \\\n",
       "33            33    Dell  Ultrabook    13.3  Touchscreen / Quad HD+ 3200x1800   \n",
       "786          786     MSI     Gaming    15.6                 Full HD 1920x1080   \n",
       "86            86      HP  Ultrabook    15.6       IPS Panel Full HD 1920x1080   \n",
       "676          676    Asus  Ultrabook    14.0                 Full HD 1920x1080   \n",
       "1272        1272  Lenovo   Notebook    14.0                          1366x768   \n",
       "\n",
       "                                       Cpu   Ram                Memory  \\\n",
       "33              Intel Core i7 8550U 1.8GHz  16GB             512GB SSD   \n",
       "786            Intel Core i5 7300HQ 2.5GHz   8GB  128GB SSD +  1TB HDD   \n",
       "86              Intel Core i7 8550U 1.8GHz   8GB             256GB SSD   \n",
       "676             Intel Core i5 7200U 2.5GHz   8GB             256GB SSD   \n",
       "1272  Intel Celeron Dual Core N3050 1.6GHz   2GB    64GB Flash Storage   \n",
       "\n",
       "                           Gpu       OpSys  Weight     Price  \n",
       "33      Intel UHD Graphics 620  Windows 10   1.2kg  99580.32  \n",
       "786    Nvidia GeForce GTX 1050  Windows 10   2.2kg  58021.92  \n",
       "86    Nvidia GeForce GTX 940MX  Windows 10  1.83kg  37242.72  \n",
       "676      Intel HD Graphics 620  Windows 10   1.1kg  60472.80  \n",
       "1272         Intel HD Graphics  Windows 10   1.5kg  12201.12  "
      ]
     },
     "execution_count": 3,
     "metadata": {},
     "output_type": "execute_result"
    }
   ],
   "source": [
    "lap_df = pd.read_csv('/kaggle/input/laptop/laptop_data.csv')\n",
    "lap_df.sample(5)"
   ]
  },
  {
   "cell_type": "markdown",
   "id": "bb24d144",
   "metadata": {
    "papermill": {
     "duration": 0.00681,
     "end_time": "2022-12-29T11:31:21.918874",
     "exception": false,
     "start_time": "2022-12-29T11:31:21.912064",
     "status": "completed"
    },
    "tags": []
   },
   "source": [
    "# Data Process \n",
    "* **Data Shape**\n",
    "* **Data Head/Sample**\n",
    "* **Data Types**\n",
    "* **Missing Values**\n",
    "* **Describe Data**\n",
    "* **Data Duplicates**\n",
    "* **Data Correlation**"
   ]
  },
  {
   "cell_type": "code",
   "execution_count": 4,
   "id": "8f915a9f",
   "metadata": {
    "execution": {
     "iopub.execute_input": "2022-12-29T11:31:21.933925Z",
     "iopub.status.busy": "2022-12-29T11:31:21.933492Z",
     "iopub.status.idle": "2022-12-29T11:31:21.939573Z",
     "shell.execute_reply": "2022-12-29T11:31:21.938297Z"
    },
    "papermill": {
     "duration": 0.017042,
     "end_time": "2022-12-29T11:31:21.942298",
     "exception": false,
     "start_time": "2022-12-29T11:31:21.925256",
     "status": "completed"
    },
    "tags": []
   },
   "outputs": [
    {
     "name": "stdout",
     "output_type": "stream",
     "text": [
      "Dataset (row,col): (1303, 12)\n"
     ]
    }
   ],
   "source": [
    "# Shape\n",
    "print(f'Dataset (row,col): {lap_df.shape}')"
   ]
  },
  {
   "cell_type": "code",
   "execution_count": 5,
   "id": "7817f437",
   "metadata": {
    "execution": {
     "iopub.execute_input": "2022-12-29T11:31:21.957746Z",
     "iopub.status.busy": "2022-12-29T11:31:21.956487Z",
     "iopub.status.idle": "2022-12-29T11:31:21.978072Z",
     "shell.execute_reply": "2022-12-29T11:31:21.976849Z"
    },
    "papermill": {
     "duration": 0.031936,
     "end_time": "2022-12-29T11:31:21.980731",
     "exception": false,
     "start_time": "2022-12-29T11:31:21.948795",
     "status": "completed"
    },
    "tags": []
   },
   "outputs": [
    {
     "data": {
      "text/html": [
       "<div>\n",
       "<style scoped>\n",
       "    .dataframe tbody tr th:only-of-type {\n",
       "        vertical-align: middle;\n",
       "    }\n",
       "\n",
       "    .dataframe tbody tr th {\n",
       "        vertical-align: top;\n",
       "    }\n",
       "\n",
       "    .dataframe thead th {\n",
       "        text-align: right;\n",
       "    }\n",
       "</style>\n",
       "<table border=\"1\" class=\"dataframe\">\n",
       "  <thead>\n",
       "    <tr style=\"text-align: right;\">\n",
       "      <th></th>\n",
       "      <th>Unnamed: 0</th>\n",
       "      <th>Company</th>\n",
       "      <th>TypeName</th>\n",
       "      <th>Inches</th>\n",
       "      <th>ScreenResolution</th>\n",
       "      <th>Cpu</th>\n",
       "      <th>Ram</th>\n",
       "      <th>Memory</th>\n",
       "      <th>Gpu</th>\n",
       "      <th>OpSys</th>\n",
       "      <th>Weight</th>\n",
       "      <th>Price</th>\n",
       "    </tr>\n",
       "  </thead>\n",
       "  <tbody>\n",
       "    <tr>\n",
       "      <th>100</th>\n",
       "      <td>100</td>\n",
       "      <td>HP</td>\n",
       "      <td>Notebook</td>\n",
       "      <td>15.6</td>\n",
       "      <td>Full HD 1920x1080</td>\n",
       "      <td>Intel Core i7 7500U 2.7GHz</td>\n",
       "      <td>8GB</td>\n",
       "      <td>256GB SSD</td>\n",
       "      <td>AMD Radeon 530</td>\n",
       "      <td>Windows 10</td>\n",
       "      <td>1.91kg</td>\n",
       "      <td>38308.320</td>\n",
       "    </tr>\n",
       "    <tr>\n",
       "      <th>816</th>\n",
       "      <td>816</td>\n",
       "      <td>Razer</td>\n",
       "      <td>Ultrabook</td>\n",
       "      <td>12.5</td>\n",
       "      <td>IPS Panel 4K Ultra HD / Touchscreen 3840x2160</td>\n",
       "      <td>Intel Core i7 7500U 2.5GHz</td>\n",
       "      <td>16GB</td>\n",
       "      <td>512GB SSD</td>\n",
       "      <td>Intel HD Graphics 620</td>\n",
       "      <td>Windows 10</td>\n",
       "      <td>1.29kg</td>\n",
       "      <td>95850.720</td>\n",
       "    </tr>\n",
       "    <tr>\n",
       "      <th>793</th>\n",
       "      <td>793</td>\n",
       "      <td>Lenovo</td>\n",
       "      <td>2 in 1 Convertible</td>\n",
       "      <td>15.6</td>\n",
       "      <td>Full HD / Touchscreen 1920x1080</td>\n",
       "      <td>Intel Core i5 7200U 2.5GHz</td>\n",
       "      <td>8GB</td>\n",
       "      <td>256GB SSD</td>\n",
       "      <td>AMD Radeon R7 M460</td>\n",
       "      <td>Windows 10</td>\n",
       "      <td>2.08kg</td>\n",
       "      <td>51095.520</td>\n",
       "    </tr>\n",
       "    <tr>\n",
       "      <th>437</th>\n",
       "      <td>437</td>\n",
       "      <td>Google</td>\n",
       "      <td>Ultrabook</td>\n",
       "      <td>12.3</td>\n",
       "      <td>Touchscreen 2400x1600</td>\n",
       "      <td>Intel Core i7 7Y75 1.3GHz</td>\n",
       "      <td>16GB</td>\n",
       "      <td>512GB SSD</td>\n",
       "      <td>Intel HD Graphics 615</td>\n",
       "      <td>Chrome OS</td>\n",
       "      <td>1.1kg</td>\n",
       "      <td>117162.720</td>\n",
       "    </tr>\n",
       "    <tr>\n",
       "      <th>515</th>\n",
       "      <td>515</td>\n",
       "      <td>Asus</td>\n",
       "      <td>Netbook</td>\n",
       "      <td>11.6</td>\n",
       "      <td>1366x768</td>\n",
       "      <td>Intel Celeron Dual Core N3350 1.1GHz</td>\n",
       "      <td>2GB</td>\n",
       "      <td>32GB Flash Storage</td>\n",
       "      <td>Intel HD Graphics 500</td>\n",
       "      <td>Windows 10</td>\n",
       "      <td>1.1kg</td>\n",
       "      <td>13053.600</td>\n",
       "    </tr>\n",
       "    <tr>\n",
       "      <th>271</th>\n",
       "      <td>271</td>\n",
       "      <td>Asus</td>\n",
       "      <td>Gaming</td>\n",
       "      <td>17.3</td>\n",
       "      <td>Full HD 1920x1080</td>\n",
       "      <td>AMD Ryzen 1700 3GHz</td>\n",
       "      <td>16GB</td>\n",
       "      <td>256GB SSD +  1TB HDD</td>\n",
       "      <td>AMD Radeon RX 580</td>\n",
       "      <td>Windows 10</td>\n",
       "      <td>3.2kg</td>\n",
       "      <td>82530.720</td>\n",
       "    </tr>\n",
       "    <tr>\n",
       "      <th>207</th>\n",
       "      <td>207</td>\n",
       "      <td>Dell</td>\n",
       "      <td>Ultrabook</td>\n",
       "      <td>13.3</td>\n",
       "      <td>IPS Panel 4K Ultra HD / Touchscreen 3840x2160</td>\n",
       "      <td>Intel Core i7 8550U 1.8GHz</td>\n",
       "      <td>8GB</td>\n",
       "      <td>256GB SSD</td>\n",
       "      <td>Intel UHD Graphics 620</td>\n",
       "      <td>Windows 10</td>\n",
       "      <td>1.21kg</td>\n",
       "      <td>103842.720</td>\n",
       "    </tr>\n",
       "    <tr>\n",
       "      <th>1247</th>\n",
       "      <td>1247</td>\n",
       "      <td>Asus</td>\n",
       "      <td>Gaming</td>\n",
       "      <td>15.6</td>\n",
       "      <td>IPS Panel Full HD 1920x1080</td>\n",
       "      <td>Intel Core i7 6700HQ 2.6GHz</td>\n",
       "      <td>16GB</td>\n",
       "      <td>256GB SSD +  1TB HDD</td>\n",
       "      <td>Nvidia GeForce GTX 1070</td>\n",
       "      <td>Windows 10</td>\n",
       "      <td>2.34kg</td>\n",
       "      <td>123876.000</td>\n",
       "    </tr>\n",
       "    <tr>\n",
       "      <th>825</th>\n",
       "      <td>825</td>\n",
       "      <td>Toshiba</td>\n",
       "      <td>Notebook</td>\n",
       "      <td>14.0</td>\n",
       "      <td>1366x768</td>\n",
       "      <td>Intel Pentium Dual Core 4405U 2.1GHz</td>\n",
       "      <td>4GB</td>\n",
       "      <td>128GB SSD</td>\n",
       "      <td>Intel HD Graphics 510</td>\n",
       "      <td>Windows 10</td>\n",
       "      <td>1.75kg</td>\n",
       "      <td>26586.720</td>\n",
       "    </tr>\n",
       "    <tr>\n",
       "      <th>418</th>\n",
       "      <td>418</td>\n",
       "      <td>Dell</td>\n",
       "      <td>Notebook</td>\n",
       "      <td>15.6</td>\n",
       "      <td>1366x768</td>\n",
       "      <td>Intel Core i5 7200U 2.5GHz</td>\n",
       "      <td>8GB</td>\n",
       "      <td>1TB HDD</td>\n",
       "      <td>Intel HD Graphics 620</td>\n",
       "      <td>Windows 10</td>\n",
       "      <td>2.14kg</td>\n",
       "      <td>28768.536</td>\n",
       "    </tr>\n",
       "  </tbody>\n",
       "</table>\n",
       "</div>"
      ],
      "text/plain": [
       "      Unnamed: 0  Company            TypeName  Inches  \\\n",
       "100          100       HP            Notebook    15.6   \n",
       "816          816    Razer           Ultrabook    12.5   \n",
       "793          793   Lenovo  2 in 1 Convertible    15.6   \n",
       "437          437   Google           Ultrabook    12.3   \n",
       "515          515     Asus             Netbook    11.6   \n",
       "271          271     Asus              Gaming    17.3   \n",
       "207          207     Dell           Ultrabook    13.3   \n",
       "1247        1247     Asus              Gaming    15.6   \n",
       "825          825  Toshiba            Notebook    14.0   \n",
       "418          418     Dell            Notebook    15.6   \n",
       "\n",
       "                                   ScreenResolution  \\\n",
       "100                               Full HD 1920x1080   \n",
       "816   IPS Panel 4K Ultra HD / Touchscreen 3840x2160   \n",
       "793                 Full HD / Touchscreen 1920x1080   \n",
       "437                           Touchscreen 2400x1600   \n",
       "515                                        1366x768   \n",
       "271                               Full HD 1920x1080   \n",
       "207   IPS Panel 4K Ultra HD / Touchscreen 3840x2160   \n",
       "1247                    IPS Panel Full HD 1920x1080   \n",
       "825                                        1366x768   \n",
       "418                                        1366x768   \n",
       "\n",
       "                                       Cpu   Ram                Memory  \\\n",
       "100             Intel Core i7 7500U 2.7GHz   8GB             256GB SSD   \n",
       "816             Intel Core i7 7500U 2.5GHz  16GB             512GB SSD   \n",
       "793             Intel Core i5 7200U 2.5GHz   8GB             256GB SSD   \n",
       "437              Intel Core i7 7Y75 1.3GHz  16GB             512GB SSD   \n",
       "515   Intel Celeron Dual Core N3350 1.1GHz   2GB    32GB Flash Storage   \n",
       "271                    AMD Ryzen 1700 3GHz  16GB  256GB SSD +  1TB HDD   \n",
       "207             Intel Core i7 8550U 1.8GHz   8GB             256GB SSD   \n",
       "1247           Intel Core i7 6700HQ 2.6GHz  16GB  256GB SSD +  1TB HDD   \n",
       "825   Intel Pentium Dual Core 4405U 2.1GHz   4GB             128GB SSD   \n",
       "418             Intel Core i5 7200U 2.5GHz   8GB               1TB HDD   \n",
       "\n",
       "                          Gpu       OpSys  Weight       Price  \n",
       "100            AMD Radeon 530  Windows 10  1.91kg   38308.320  \n",
       "816     Intel HD Graphics 620  Windows 10  1.29kg   95850.720  \n",
       "793        AMD Radeon R7 M460  Windows 10  2.08kg   51095.520  \n",
       "437     Intel HD Graphics 615   Chrome OS   1.1kg  117162.720  \n",
       "515     Intel HD Graphics 500  Windows 10   1.1kg   13053.600  \n",
       "271         AMD Radeon RX 580  Windows 10   3.2kg   82530.720  \n",
       "207    Intel UHD Graphics 620  Windows 10  1.21kg  103842.720  \n",
       "1247  Nvidia GeForce GTX 1070  Windows 10  2.34kg  123876.000  \n",
       "825     Intel HD Graphics 510  Windows 10  1.75kg   26586.720  \n",
       "418     Intel HD Graphics 620  Windows 10  2.14kg   28768.536  "
      ]
     },
     "execution_count": 5,
     "metadata": {},
     "output_type": "execute_result"
    }
   ],
   "source": [
    "# Sample \n",
    "lap_df.sample(10)"
   ]
  },
  {
   "cell_type": "code",
   "execution_count": 6,
   "id": "26f2242e",
   "metadata": {
    "execution": {
     "iopub.execute_input": "2022-12-29T11:31:21.997128Z",
     "iopub.status.busy": "2022-12-29T11:31:21.996724Z",
     "iopub.status.idle": "2022-12-29T11:31:22.024744Z",
     "shell.execute_reply": "2022-12-29T11:31:22.023358Z"
    },
    "papermill": {
     "duration": 0.039278,
     "end_time": "2022-12-29T11:31:22.027294",
     "exception": false,
     "start_time": "2022-12-29T11:31:21.988016",
     "status": "completed"
    },
    "tags": []
   },
   "outputs": [
    {
     "name": "stdout",
     "output_type": "stream",
     "text": [
      "<class 'pandas.core.frame.DataFrame'>\n",
      "RangeIndex: 1303 entries, 0 to 1302\n",
      "Data columns (total 12 columns):\n",
      " #   Column            Non-Null Count  Dtype  \n",
      "---  ------            --------------  -----  \n",
      " 0   Unnamed: 0        1303 non-null   int64  \n",
      " 1   Company           1303 non-null   object \n",
      " 2   TypeName          1303 non-null   object \n",
      " 3   Inches            1303 non-null   float64\n",
      " 4   ScreenResolution  1303 non-null   object \n",
      " 5   Cpu               1303 non-null   object \n",
      " 6   Ram               1303 non-null   object \n",
      " 7   Memory            1303 non-null   object \n",
      " 8   Gpu               1303 non-null   object \n",
      " 9   OpSys             1303 non-null   object \n",
      " 10  Weight            1303 non-null   object \n",
      " 11  Price             1303 non-null   float64\n",
      "dtypes: float64(2), int64(1), object(9)\n",
      "memory usage: 122.3+ KB\n"
     ]
    }
   ],
   "source": [
    "# check column types\n",
    "lap_df.info()"
   ]
  },
  {
   "cell_type": "code",
   "execution_count": 7,
   "id": "85f8ad6a",
   "metadata": {
    "execution": {
     "iopub.execute_input": "2022-12-29T11:31:22.044590Z",
     "iopub.status.busy": "2022-12-29T11:31:22.044173Z",
     "iopub.status.idle": "2022-12-29T11:31:22.052984Z",
     "shell.execute_reply": "2022-12-29T11:31:22.051496Z"
    },
    "papermill": {
     "duration": 0.02038,
     "end_time": "2022-12-29T11:31:22.056169",
     "exception": false,
     "start_time": "2022-12-29T11:31:22.035789",
     "status": "completed"
    },
    "tags": []
   },
   "outputs": [
    {
     "name": "stdout",
     "output_type": "stream",
     "text": [
      "Missing values in Dataset:\n",
      "Unnamed: 0          0\n",
      "Company             0\n",
      "TypeName            0\n",
      "Inches              0\n",
      "ScreenResolution    0\n",
      "Cpu                 0\n",
      "Ram                 0\n",
      "Memory              0\n",
      "Gpu                 0\n",
      "OpSys               0\n",
      "Weight              0\n",
      "Price               0\n",
      "dtype: int64\n"
     ]
    }
   ],
   "source": [
    "# Missing values\n",
    "print(f'Missing values in Dataset:\\n{lap_df.isnull().sum()}')"
   ]
  },
  {
   "cell_type": "code",
   "execution_count": 8,
   "id": "9995a705",
   "metadata": {
    "execution": {
     "iopub.execute_input": "2022-12-29T11:31:22.072472Z",
     "iopub.status.busy": "2022-12-29T11:31:22.072080Z",
     "iopub.status.idle": "2022-12-29T11:31:22.118982Z",
     "shell.execute_reply": "2022-12-29T11:31:22.117718Z"
    },
    "papermill": {
     "duration": 0.058623,
     "end_time": "2022-12-29T11:31:22.121694",
     "exception": false,
     "start_time": "2022-12-29T11:31:22.063071",
     "status": "completed"
    },
    "tags": []
   },
   "outputs": [
    {
     "data": {
      "text/html": [
       "<div>\n",
       "<style scoped>\n",
       "    .dataframe tbody tr th:only-of-type {\n",
       "        vertical-align: middle;\n",
       "    }\n",
       "\n",
       "    .dataframe tbody tr th {\n",
       "        vertical-align: top;\n",
       "    }\n",
       "\n",
       "    .dataframe thead th {\n",
       "        text-align: right;\n",
       "    }\n",
       "</style>\n",
       "<table border=\"1\" class=\"dataframe\">\n",
       "  <thead>\n",
       "    <tr style=\"text-align: right;\">\n",
       "      <th></th>\n",
       "      <th>Unnamed: 0</th>\n",
       "      <th>Company</th>\n",
       "      <th>TypeName</th>\n",
       "      <th>Inches</th>\n",
       "      <th>ScreenResolution</th>\n",
       "      <th>Cpu</th>\n",
       "      <th>Ram</th>\n",
       "      <th>Memory</th>\n",
       "      <th>Gpu</th>\n",
       "      <th>OpSys</th>\n",
       "      <th>Weight</th>\n",
       "      <th>Price</th>\n",
       "    </tr>\n",
       "  </thead>\n",
       "  <tbody>\n",
       "    <tr>\n",
       "      <th>count</th>\n",
       "      <td>1303.00000</td>\n",
       "      <td>1303</td>\n",
       "      <td>1303</td>\n",
       "      <td>1303.000000</td>\n",
       "      <td>1303</td>\n",
       "      <td>1303</td>\n",
       "      <td>1303</td>\n",
       "      <td>1303</td>\n",
       "      <td>1303</td>\n",
       "      <td>1303</td>\n",
       "      <td>1303</td>\n",
       "      <td>1303.000000</td>\n",
       "    </tr>\n",
       "    <tr>\n",
       "      <th>unique</th>\n",
       "      <td>NaN</td>\n",
       "      <td>19</td>\n",
       "      <td>6</td>\n",
       "      <td>NaN</td>\n",
       "      <td>40</td>\n",
       "      <td>118</td>\n",
       "      <td>9</td>\n",
       "      <td>39</td>\n",
       "      <td>110</td>\n",
       "      <td>9</td>\n",
       "      <td>179</td>\n",
       "      <td>NaN</td>\n",
       "    </tr>\n",
       "    <tr>\n",
       "      <th>top</th>\n",
       "      <td>NaN</td>\n",
       "      <td>Dell</td>\n",
       "      <td>Notebook</td>\n",
       "      <td>NaN</td>\n",
       "      <td>Full HD 1920x1080</td>\n",
       "      <td>Intel Core i5 7200U 2.5GHz</td>\n",
       "      <td>8GB</td>\n",
       "      <td>256GB SSD</td>\n",
       "      <td>Intel HD Graphics 620</td>\n",
       "      <td>Windows 10</td>\n",
       "      <td>2.2kg</td>\n",
       "      <td>NaN</td>\n",
       "    </tr>\n",
       "    <tr>\n",
       "      <th>freq</th>\n",
       "      <td>NaN</td>\n",
       "      <td>297</td>\n",
       "      <td>727</td>\n",
       "      <td>NaN</td>\n",
       "      <td>507</td>\n",
       "      <td>190</td>\n",
       "      <td>619</td>\n",
       "      <td>412</td>\n",
       "      <td>281</td>\n",
       "      <td>1072</td>\n",
       "      <td>121</td>\n",
       "      <td>NaN</td>\n",
       "    </tr>\n",
       "    <tr>\n",
       "      <th>mean</th>\n",
       "      <td>651.00000</td>\n",
       "      <td>NaN</td>\n",
       "      <td>NaN</td>\n",
       "      <td>15.017191</td>\n",
       "      <td>NaN</td>\n",
       "      <td>NaN</td>\n",
       "      <td>NaN</td>\n",
       "      <td>NaN</td>\n",
       "      <td>NaN</td>\n",
       "      <td>NaN</td>\n",
       "      <td>NaN</td>\n",
       "      <td>59870.042910</td>\n",
       "    </tr>\n",
       "    <tr>\n",
       "      <th>std</th>\n",
       "      <td>376.28801</td>\n",
       "      <td>NaN</td>\n",
       "      <td>NaN</td>\n",
       "      <td>1.426304</td>\n",
       "      <td>NaN</td>\n",
       "      <td>NaN</td>\n",
       "      <td>NaN</td>\n",
       "      <td>NaN</td>\n",
       "      <td>NaN</td>\n",
       "      <td>NaN</td>\n",
       "      <td>NaN</td>\n",
       "      <td>37243.201786</td>\n",
       "    </tr>\n",
       "    <tr>\n",
       "      <th>min</th>\n",
       "      <td>0.00000</td>\n",
       "      <td>NaN</td>\n",
       "      <td>NaN</td>\n",
       "      <td>10.100000</td>\n",
       "      <td>NaN</td>\n",
       "      <td>NaN</td>\n",
       "      <td>NaN</td>\n",
       "      <td>NaN</td>\n",
       "      <td>NaN</td>\n",
       "      <td>NaN</td>\n",
       "      <td>NaN</td>\n",
       "      <td>9270.720000</td>\n",
       "    </tr>\n",
       "    <tr>\n",
       "      <th>25%</th>\n",
       "      <td>325.50000</td>\n",
       "      <td>NaN</td>\n",
       "      <td>NaN</td>\n",
       "      <td>14.000000</td>\n",
       "      <td>NaN</td>\n",
       "      <td>NaN</td>\n",
       "      <td>NaN</td>\n",
       "      <td>NaN</td>\n",
       "      <td>NaN</td>\n",
       "      <td>NaN</td>\n",
       "      <td>NaN</td>\n",
       "      <td>31914.720000</td>\n",
       "    </tr>\n",
       "    <tr>\n",
       "      <th>50%</th>\n",
       "      <td>651.00000</td>\n",
       "      <td>NaN</td>\n",
       "      <td>NaN</td>\n",
       "      <td>15.600000</td>\n",
       "      <td>NaN</td>\n",
       "      <td>NaN</td>\n",
       "      <td>NaN</td>\n",
       "      <td>NaN</td>\n",
       "      <td>NaN</td>\n",
       "      <td>NaN</td>\n",
       "      <td>NaN</td>\n",
       "      <td>52054.560000</td>\n",
       "    </tr>\n",
       "    <tr>\n",
       "      <th>75%</th>\n",
       "      <td>976.50000</td>\n",
       "      <td>NaN</td>\n",
       "      <td>NaN</td>\n",
       "      <td>15.600000</td>\n",
       "      <td>NaN</td>\n",
       "      <td>NaN</td>\n",
       "      <td>NaN</td>\n",
       "      <td>NaN</td>\n",
       "      <td>NaN</td>\n",
       "      <td>NaN</td>\n",
       "      <td>NaN</td>\n",
       "      <td>79274.246400</td>\n",
       "    </tr>\n",
       "    <tr>\n",
       "      <th>max</th>\n",
       "      <td>1302.00000</td>\n",
       "      <td>NaN</td>\n",
       "      <td>NaN</td>\n",
       "      <td>18.400000</td>\n",
       "      <td>NaN</td>\n",
       "      <td>NaN</td>\n",
       "      <td>NaN</td>\n",
       "      <td>NaN</td>\n",
       "      <td>NaN</td>\n",
       "      <td>NaN</td>\n",
       "      <td>NaN</td>\n",
       "      <td>324954.720000</td>\n",
       "    </tr>\n",
       "  </tbody>\n",
       "</table>\n",
       "</div>"
      ],
      "text/plain": [
       "        Unnamed: 0 Company  TypeName       Inches   ScreenResolution  \\\n",
       "count   1303.00000    1303      1303  1303.000000               1303   \n",
       "unique         NaN      19         6          NaN                 40   \n",
       "top            NaN    Dell  Notebook          NaN  Full HD 1920x1080   \n",
       "freq           NaN     297       727          NaN                507   \n",
       "mean     651.00000     NaN       NaN    15.017191                NaN   \n",
       "std      376.28801     NaN       NaN     1.426304                NaN   \n",
       "min        0.00000     NaN       NaN    10.100000                NaN   \n",
       "25%      325.50000     NaN       NaN    14.000000                NaN   \n",
       "50%      651.00000     NaN       NaN    15.600000                NaN   \n",
       "75%      976.50000     NaN       NaN    15.600000                NaN   \n",
       "max     1302.00000     NaN       NaN    18.400000                NaN   \n",
       "\n",
       "                               Cpu   Ram     Memory                    Gpu  \\\n",
       "count                         1303  1303       1303                   1303   \n",
       "unique                         118     9         39                    110   \n",
       "top     Intel Core i5 7200U 2.5GHz   8GB  256GB SSD  Intel HD Graphics 620   \n",
       "freq                           190   619        412                    281   \n",
       "mean                           NaN   NaN        NaN                    NaN   \n",
       "std                            NaN   NaN        NaN                    NaN   \n",
       "min                            NaN   NaN        NaN                    NaN   \n",
       "25%                            NaN   NaN        NaN                    NaN   \n",
       "50%                            NaN   NaN        NaN                    NaN   \n",
       "75%                            NaN   NaN        NaN                    NaN   \n",
       "max                            NaN   NaN        NaN                    NaN   \n",
       "\n",
       "             OpSys Weight          Price  \n",
       "count         1303   1303    1303.000000  \n",
       "unique           9    179            NaN  \n",
       "top     Windows 10  2.2kg            NaN  \n",
       "freq          1072    121            NaN  \n",
       "mean           NaN    NaN   59870.042910  \n",
       "std            NaN    NaN   37243.201786  \n",
       "min            NaN    NaN    9270.720000  \n",
       "25%            NaN    NaN   31914.720000  \n",
       "50%            NaN    NaN   52054.560000  \n",
       "75%            NaN    NaN   79274.246400  \n",
       "max            NaN    NaN  324954.720000  "
      ]
     },
     "execution_count": 8,
     "metadata": {},
     "output_type": "execute_result"
    }
   ],
   "source": [
    "# Descirbe Data\n",
    "lap_df.describe(include=['number', 'object'])"
   ]
  },
  {
   "cell_type": "code",
   "execution_count": 9,
   "id": "f7c60ee9",
   "metadata": {
    "execution": {
     "iopub.execute_input": "2022-12-29T11:31:22.139108Z",
     "iopub.status.busy": "2022-12-29T11:31:22.138714Z",
     "iopub.status.idle": "2022-12-29T11:31:22.152800Z",
     "shell.execute_reply": "2022-12-29T11:31:22.151424Z"
    },
    "papermill": {
     "duration": 0.026644,
     "end_time": "2022-12-29T11:31:22.155846",
     "exception": false,
     "start_time": "2022-12-29T11:31:22.129202",
     "status": "completed"
    },
    "tags": []
   },
   "outputs": [
    {
     "name": "stdout",
     "output_type": "stream",
     "text": [
      "Duplicates in Dataset: 0\n"
     ]
    }
   ],
   "source": [
    "# Duplicates\n",
    "print(f'Duplicates in Dataset: {lap_df.duplicated().sum()}')"
   ]
  },
  {
   "cell_type": "code",
   "execution_count": 10,
   "id": "93883e8b",
   "metadata": {
    "execution": {
     "iopub.execute_input": "2022-12-29T11:31:22.173113Z",
     "iopub.status.busy": "2022-12-29T11:31:22.172687Z",
     "iopub.status.idle": "2022-12-29T11:31:22.506745Z",
     "shell.execute_reply": "2022-12-29T11:31:22.505557Z"
    },
    "papermill": {
     "duration": 0.345928,
     "end_time": "2022-12-29T11:31:22.509370",
     "exception": false,
     "start_time": "2022-12-29T11:31:22.163442",
     "status": "completed"
    },
    "tags": []
   },
   "outputs": [
    {
     "data": {
      "text/plain": [
       "Text(0.5, 1.0, 'Correlations in  Dataset\\n')"
      ]
     },
     "execution_count": 10,
     "metadata": {},
     "output_type": "execute_result"
    },
    {
     "data": {
      "image/png": "[encoded data removed]",
      "text/plain": [
       "<Figure size 432x288 with 2 Axes>"
      ]
     },
     "metadata": {},
     "output_type": "display_data"
    }
   ],
   "source": [
    "# Correlation in dataset\n",
    "ax = sns.heatmap(lap_df.corr(), cmap='YlGnBu', annot=True)\n",
    "ax.set_title('Correlations in  Dataset\\n', fontsize=20)"
   ]
  },
  {
   "cell_type": "markdown",
   "id": "fa574efc",
   "metadata": {
    "papermill": {
     "duration": 0.011783,
     "end_time": "2022-12-29T11:31:22.529284",
     "exception": false,
     "start_time": "2022-12-29T11:31:22.517501",
     "status": "completed"
    },
    "tags": []
   },
   "source": [
    "### About Data \n",
    "This Dataset consist **1303 rows** and **12 columns**, containing **0** **missing values** and **duplicates**.\n",
    "\n",
    "#### Description:\n",
    "    Dataset contains information about **laptops** \n",
    "\n",
    "#### Columns:\n",
    "    ** Company **:             Laptop Company Name\n",
    "    ** TypeName **:            Laptop Type\n",
    "    ** Inches **:              Laptop size\n",
    "    ** ScreenResolution **:    Screen Size\n",
    "    ** Cpu **:                 CPU Information\n",
    "    ** Ram **:                 Laptop Ram\n",
    "    ** Memory **:              Laptop Memory\n",
    "    ** Gpu **:                 Information about Graphics\n",
    "    ** OpSys **:               Operating System\n",
    "    ** Weight **:              Laptop Weight\n",
    "    ** Price **:               Laptop Price\n",
    "\n",
    "#### Key Veriables:\n",
    "    ** ScreenResolution **: Veriable contains **more information** like (HD,4K support, resolution pixels etc)\n",
    "    ** Cpu **:              Veriable contains **more information** like (processerType, processerSpeed etc)\n",
    "    ** Gpu **:              Veriable contains **more information** like (Graphic's Company Name, GraphicMem etc)\n",
    "    ** Memory **:           Veriable contains **more information** like (diskType, Disk size etc)\n",
    "    \n",
    "    \n",
    "#### Observations:\n",
    "    Most Sold Laptops are from Dell.\n",
    "    Most Sold Laptops are notebooks.\n",
    "    Laptops are mostly 15 inches.\n",
    "    Most Laptops are HD Supported.\n",
    "    Most Laptops are Intel core i5.\n",
    "    Most Laptops have 8GB Ram.\n",
    "    Most Laptops have 256SSD Memory.\n",
    "    Most Laptops have intel Graphics.\n",
    "    Most Laptops have window 10 OpSys.\n",
    "    Most Laptops have almost 2kg weight.\n",
    "    Laptop Average Price is 31914\n",
    "    \n",
    "#### Points to Note:\n",
    "    Convert weight into numeric.\n",
    "    Convert Ram into numeric.\n",
    "    Delete unnamed 0."
   ]
  },
  {
   "cell_type": "code",
   "execution_count": 11,
   "id": "9858b244",
   "metadata": {
    "execution": {
     "iopub.execute_input": "2022-12-29T11:31:22.556050Z",
     "iopub.status.busy": "2022-12-29T11:31:22.554987Z",
     "iopub.status.idle": "2022-12-29T11:31:22.571110Z",
     "shell.execute_reply": "2022-12-29T11:31:22.569129Z"
    },
    "papermill": {
     "duration": 0.033339,
     "end_time": "2022-12-29T11:31:22.575918",
     "exception": false,
     "start_time": "2022-12-29T11:31:22.542579",
     "status": "completed"
    },
    "tags": []
   },
   "outputs": [],
   "source": [
    "# remove Unnamed 0:\n",
    "lap_df = lap_df[lap_df.columns[1:]]\n",
    "\n",
    "# Convert weight into numeric\n",
    "lap_df['Ram'] = lap_df['Ram'].apply(lambda i:i[0]).astype('int')\n",
    "\n",
    "# Convert weight into numeric\n",
    "lap_df['Weight'] = lap_df['Weight'].apply(lambda i:i[:-2]).astype('float')\n"
   ]
  },
  {
   "cell_type": "code",
   "execution_count": 12,
   "id": "1f02a28e",
   "metadata": {
    "execution": {
     "iopub.execute_input": "2022-12-29T11:31:22.600428Z",
     "iopub.status.busy": "2022-12-29T11:31:22.598959Z",
     "iopub.status.idle": "2022-12-29T11:31:22.623013Z",
     "shell.execute_reply": "2022-12-29T11:31:22.621577Z"
    },
    "papermill": {
     "duration": 0.039534,
     "end_time": "2022-12-29T11:31:22.626009",
     "exception": false,
     "start_time": "2022-12-29T11:31:22.586475",
     "status": "completed"
    },
    "tags": []
   },
   "outputs": [
    {
     "data": {
      "text/html": [
       "<div>\n",
       "<style scoped>\n",
       "    .dataframe tbody tr th:only-of-type {\n",
       "        vertical-align: middle;\n",
       "    }\n",
       "\n",
       "    .dataframe tbody tr th {\n",
       "        vertical-align: top;\n",
       "    }\n",
       "\n",
       "    .dataframe thead th {\n",
       "        text-align: right;\n",
       "    }\n",
       "</style>\n",
       "<table border=\"1\" class=\"dataframe\">\n",
       "  <thead>\n",
       "    <tr style=\"text-align: right;\">\n",
       "      <th></th>\n",
       "      <th>Company</th>\n",
       "      <th>TypeName</th>\n",
       "      <th>Inches</th>\n",
       "      <th>ScreenResolution</th>\n",
       "      <th>Cpu</th>\n",
       "      <th>Ram</th>\n",
       "      <th>Memory</th>\n",
       "      <th>Gpu</th>\n",
       "      <th>OpSys</th>\n",
       "      <th>Weight</th>\n",
       "      <th>Price</th>\n",
       "    </tr>\n",
       "  </thead>\n",
       "  <tbody>\n",
       "    <tr>\n",
       "      <th>0</th>\n",
       "      <td>Apple</td>\n",
       "      <td>Ultrabook</td>\n",
       "      <td>13.3</td>\n",
       "      <td>IPS Panel Retina Display 2560x1600</td>\n",
       "      <td>Intel Core i5 2.3GHz</td>\n",
       "      <td>8</td>\n",
       "      <td>128GB SSD</td>\n",
       "      <td>Intel Iris Plus Graphics 640</td>\n",
       "      <td>macOS</td>\n",
       "      <td>1.37</td>\n",
       "      <td>71378.6832</td>\n",
       "    </tr>\n",
       "    <tr>\n",
       "      <th>1</th>\n",
       "      <td>Apple</td>\n",
       "      <td>Ultrabook</td>\n",
       "      <td>13.3</td>\n",
       "      <td>1440x900</td>\n",
       "      <td>Intel Core i5 1.8GHz</td>\n",
       "      <td>8</td>\n",
       "      <td>128GB Flash Storage</td>\n",
       "      <td>Intel HD Graphics 6000</td>\n",
       "      <td>macOS</td>\n",
       "      <td>1.34</td>\n",
       "      <td>47895.5232</td>\n",
       "    </tr>\n",
       "    <tr>\n",
       "      <th>2</th>\n",
       "      <td>HP</td>\n",
       "      <td>Notebook</td>\n",
       "      <td>15.6</td>\n",
       "      <td>Full HD 1920x1080</td>\n",
       "      <td>Intel Core i5 7200U 2.5GHz</td>\n",
       "      <td>8</td>\n",
       "      <td>256GB SSD</td>\n",
       "      <td>Intel HD Graphics 620</td>\n",
       "      <td>No OS</td>\n",
       "      <td>1.86</td>\n",
       "      <td>30636.0000</td>\n",
       "    </tr>\n",
       "    <tr>\n",
       "      <th>3</th>\n",
       "      <td>Apple</td>\n",
       "      <td>Ultrabook</td>\n",
       "      <td>15.4</td>\n",
       "      <td>IPS Panel Retina Display 2880x1800</td>\n",
       "      <td>Intel Core i7 2.7GHz</td>\n",
       "      <td>1</td>\n",
       "      <td>512GB SSD</td>\n",
       "      <td>AMD Radeon Pro 455</td>\n",
       "      <td>macOS</td>\n",
       "      <td>1.83</td>\n",
       "      <td>135195.3360</td>\n",
       "    </tr>\n",
       "    <tr>\n",
       "      <th>4</th>\n",
       "      <td>Apple</td>\n",
       "      <td>Ultrabook</td>\n",
       "      <td>13.3</td>\n",
       "      <td>IPS Panel Retina Display 2560x1600</td>\n",
       "      <td>Intel Core i5 3.1GHz</td>\n",
       "      <td>8</td>\n",
       "      <td>256GB SSD</td>\n",
       "      <td>Intel Iris Plus Graphics 650</td>\n",
       "      <td>macOS</td>\n",
       "      <td>1.37</td>\n",
       "      <td>96095.8080</td>\n",
       "    </tr>\n",
       "  </tbody>\n",
       "</table>\n",
       "</div>"
      ],
      "text/plain": [
       "  Company   TypeName  Inches                    ScreenResolution  \\\n",
       "0   Apple  Ultrabook    13.3  IPS Panel Retina Display 2560x1600   \n",
       "1   Apple  Ultrabook    13.3                            1440x900   \n",
       "2      HP   Notebook    15.6                   Full HD 1920x1080   \n",
       "3   Apple  Ultrabook    15.4  IPS Panel Retina Display 2880x1800   \n",
       "4   Apple  Ultrabook    13.3  IPS Panel Retina Display 2560x1600   \n",
       "\n",
       "                          Cpu  Ram               Memory  \\\n",
       "0        Intel Core i5 2.3GHz    8            128GB SSD   \n",
       "1        Intel Core i5 1.8GHz    8  128GB Flash Storage   \n",
       "2  Intel Core i5 7200U 2.5GHz    8            256GB SSD   \n",
       "3        Intel Core i7 2.7GHz    1            512GB SSD   \n",
       "4        Intel Core i5 3.1GHz    8            256GB SSD   \n",
       "\n",
       "                            Gpu  OpSys  Weight        Price  \n",
       "0  Intel Iris Plus Graphics 640  macOS    1.37   71378.6832  \n",
       "1        Intel HD Graphics 6000  macOS    1.34   47895.5232  \n",
       "2         Intel HD Graphics 620  No OS    1.86   30636.0000  \n",
       "3            AMD Radeon Pro 455  macOS    1.83  135195.3360  \n",
       "4  Intel Iris Plus Graphics 650  macOS    1.37   96095.8080  "
      ]
     },
     "execution_count": 12,
     "metadata": {},
     "output_type": "execute_result"
    }
   ],
   "source": [
    "# Check Data\n",
    "lap_df.head()"
   ]
  },
  {
   "cell_type": "markdown",
   "id": "4d2aca00",
   "metadata": {
    "papermill": {
     "duration": 0.007865,
     "end_time": "2022-12-29T11:31:22.645185",
     "exception": false,
     "start_time": "2022-12-29T11:31:22.637320",
     "status": "completed"
    },
    "tags": []
   },
   "source": [
    "# Exploratory Data Analysis"
   ]
  },
  {
   "cell_type": "code",
   "execution_count": 13,
   "id": "8b44a41d",
   "metadata": {
    "execution": {
     "iopub.execute_input": "2022-12-29T11:31:22.663775Z",
     "iopub.status.busy": "2022-12-29T11:31:22.662837Z",
     "iopub.status.idle": "2022-12-29T11:31:23.001949Z",
     "shell.execute_reply": "2022-12-29T11:31:23.000413Z"
    },
    "papermill": {
     "duration": 0.351496,
     "end_time": "2022-12-29T11:31:23.004952",
     "exception": false,
     "start_time": "2022-12-29T11:31:22.653456",
     "status": "completed"
    },
    "tags": []
   },
   "outputs": [
    {
     "data": {
      "text/plain": [
       "Text(0.5, 1.0, 'Correlations in  Dataset\\n')"
      ]
     },
     "execution_count": 13,
     "metadata": {},
     "output_type": "execute_result"
    },
    {
     "data": {
      "image/png": "[encoded data removed]",
      "text/plain": [
       "<Figure size 432x288 with 2 Axes>"
      ]
     },
     "metadata": {},
     "output_type": "display_data"
    }
   ],
   "source": [
    "# Correlation in dataset\n",
    "ax = sns.heatmap(lap_df.corr(), cmap='YlGnBu', annot=True)\n",
    "ax.set_title('Correlations in  Dataset\\n', fontsize=20)"
   ]
  },
  {
   "cell_type": "markdown",
   "id": "11dae9fb",
   "metadata": {
    "papermill": {
     "duration": 0.008592,
     "end_time": "2022-12-29T11:31:23.022342",
     "exception": false,
     "start_time": "2022-12-29T11:31:23.013750",
     "status": "completed"
    },
    "tags": []
   },
   "source": [
    "### Observations\n",
    "* **Price and Inches has slightly +ve relation.**\n",
    "* **Price and Ram has slightly -ve relation which is strange.**\n",
    "* **Price and Weight has +ve relation.**"
   ]
  },
  {
   "cell_type": "code",
   "execution_count": 14,
   "id": "9c3aaee6",
   "metadata": {
    "execution": {
     "iopub.execute_input": "2022-12-29T11:31:23.042195Z",
     "iopub.status.busy": "2022-12-29T11:31:23.041783Z",
     "iopub.status.idle": "2022-12-29T11:31:23.458800Z",
     "shell.execute_reply": "2022-12-29T11:31:23.457795Z"
    },
    "papermill": {
     "duration": 0.42991,
     "end_time": "2022-12-29T11:31:23.461142",
     "exception": false,
     "start_time": "2022-12-29T11:31:23.031232",
     "status": "completed"
    },
    "tags": []
   },
   "outputs": [
    {
     "name": "stderr",
     "output_type": "stream",
     "text": [
      "/opt/conda/lib/python3.7/site-packages/seaborn/distributions.py:2619: FutureWarning: `distplot` is a deprecated function and will be removed in a future version. Please adapt your code to use either `displot` (a figure-level function with similar flexibility) or `histplot` (an axes-level function for histograms).\n",
      "  warnings.warn(msg, FutureWarning)\n"
     ]
    },
    {
     "data": {
      "image/png": "[encoded data removed]",
      "text/plain": [
       "<Figure size 720x576 with 1 Axes>"
      ]
     },
     "metadata": {},
     "output_type": "display_data"
    }
   ],
   "source": [
    "# Price Disribution\n",
    "plt.figure(figsize=(10,8))\n",
    "ax = sns.distplot(x=lap_df['Price'])\n",
    "ax.set_title('Price Distribution\\n', fontsize=20)\n",
    "ax.set_xlabel('Price', fontsize=10)\n",
    "ax.set_ylabel('count', fontsize=10)\n",
    "sns.despine(offset=5, trim=True)"
   ]
  },
  {
   "cell_type": "markdown",
   "id": "7e65f4d2",
   "metadata": {
    "papermill": {
     "duration": 0.009596,
     "end_time": "2022-12-29T11:31:23.480145",
     "exception": false,
     "start_time": "2022-12-29T11:31:23.470549",
     "status": "completed"
    },
    "tags": []
   },
   "source": [
    "#### Observations:\n",
    "* **Price is skewed towords right ( laptops with high price are less)**"
   ]
  },
  {
   "cell_type": "code",
   "execution_count": 15,
   "id": "66861fcc",
   "metadata": {
    "execution": {
     "iopub.execute_input": "2022-12-29T11:31:23.501390Z",
     "iopub.status.busy": "2022-12-29T11:31:23.500550Z",
     "iopub.status.idle": "2022-12-29T11:31:23.932667Z",
     "shell.execute_reply": "2022-12-29T11:31:23.931374Z"
    },
    "papermill": {
     "duration": 0.44561,
     "end_time": "2022-12-29T11:31:23.935317",
     "exception": false,
     "start_time": "2022-12-29T11:31:23.489707",
     "status": "completed"
    },
    "tags": []
   },
   "outputs": [
    {
     "data": {
      "image/png": "[encoded data removed]",
      "text/plain": [
       "<Figure size 1080x576 with 1 Axes>"
      ]
     },
     "metadata": {},
     "output_type": "display_data"
    }
   ],
   "source": [
    "# Explore Company\n",
    "plt.figure(figsize=(15,8))\n",
    "ax = sns.countplot(data=lap_df, x='Company', palette='dark')\n",
    "ax.set_title('Company', fontsize=20)\n",
    "ax.set_ylabel('Number of Laptops')\n",
    "sns.despine(offset=20, trim=True)"
   ]
  },
  {
   "cell_type": "code",
   "execution_count": 16,
   "id": "b1e180c1",
   "metadata": {
    "execution": {
     "iopub.execute_input": "2022-12-29T11:31:23.957570Z",
     "iopub.status.busy": "2022-12-29T11:31:23.956999Z",
     "iopub.status.idle": "2022-12-29T11:31:24.811232Z",
     "shell.execute_reply": "2022-12-29T11:31:24.809830Z"
    },
    "papermill": {
     "duration": 0.868627,
     "end_time": "2022-12-29T11:31:24.814041",
     "exception": false,
     "start_time": "2022-12-29T11:31:23.945414",
     "status": "completed"
    },
    "tags": []
   },
   "outputs": [
    {
     "data": {
      "image/png": "[encoded data removed]",
      "text/plain": [
       "<Figure size 720x576 with 1 Axes>"
      ]
     },
     "metadata": {},
     "output_type": "display_data"
    }
   ],
   "source": [
    "# Explore Company\n",
    "plt.figure(figsize=(10,8))\n",
    "ax = sns.barplot(data=lap_df, x='Price', y='Company', palette='dark')\n",
    "ax.set_title('Company Vs Price\\n', fontsize=20)\n",
    "sns.despine(offset=20, trim=True)"
   ]
  },
  {
   "cell_type": "markdown",
   "id": "457524cc",
   "metadata": {
    "papermill": {
     "duration": 0.009924,
     "end_time": "2022-12-29T11:31:24.834468",
     "exception": false,
     "start_time": "2022-12-29T11:31:24.824544",
     "status": "completed"
    },
    "tags": []
   },
   "source": [
    "#### Realizations:\n",
    "* **Popular** Companies are **Dell** and **Lenovo**.\n",
    "* **Razer** Company has most **expensive** Laptops.\n",
    "* **Vero** Company has most **cheapest** Laptops.\n",
    "* **Price** **veries** with **Company Name**"
   ]
  },
  {
   "cell_type": "code",
   "execution_count": null,
   "id": "e94688ae",
   "metadata": {
    "papermill": {
     "duration": 0.009863,
     "end_time": "2022-12-29T11:31:24.854703",
     "exception": false,
     "start_time": "2022-12-29T11:31:24.844840",
     "status": "completed"
    },
    "tags": []
   },
   "outputs": [],
   "source": []
  }
 ],
 "metadata": {
  "kernelspec": {
   "display_name": "Python 3",
   "language": "python",
   "name": "python3"
  },
  "language_info": {
   "codemirror_mode": {
    "name": "ipython",
    "version": 3
   },
   "file_extension": ".py",
   "mimetype": "text/x-python",
   "name": "python",
   "nbconvert_exporter": "python",
   "pygments_lexer": "ipython3",
   "version": "3.7.12"
  },
  "papermill": {
   "default_parameters": {},
   "duration": 14.874989,
   "end_time": "2022-12-29T11:31:25.688145",
   "environment_variables": {},
   "exception": null,
   "input_path": "__notebook__.ipynb",
   "output_path": "__notebook__.ipynb",
   "parameters": {},
   "start_time": "2022-12-29T11:31:10.813156",
   "version": "2.3.4"
  }
 },
 "nbformat": 4,
 "nbformat_minor": 5
}
